{
 "cells": [
  {
   "cell_type": "markdown",
   "metadata": {},
   "source": [
    "[![Open In Colab](https://colab.research.google.com/assets/colab-badge.svg)](https://colab.research.google.com/github/trevortknguyen/nonparametric/blob/master/product_kernels.ipynb)"
   ]
  },
  {
   "cell_type": "markdown",
   "metadata": {},
   "source": [
    "# Understanding product kernels\n",
    "A product kernel is a way to do multivariate kernel density estimation where instead of using a covariance matrix as a bandwidth, you take a product of multiple univariate kernels, one for each dimension.\n",
    "\n",
    "The product kernel seems similar to just using a diagonal covariance matrix, but they are not equivalent because the diagonal bandwidth matrix implies the dimensions are all independent. The product kernel does not assume independent dimensions/features.\n",
    "\n",
    "If it did, you could take the product of all of the dimensions/features at the end versus the beginning. This document explains this a bit. http://www.complexity.co.kr/wp-content/uploads/2015/02/pr_l7.pdf"
   ]
  },
  {
   "cell_type": "code",
   "execution_count": null,
   "metadata": {},
   "outputs": [],
   "source": [
    "import scipy.stats\n",
    "import numpy as np\n",
    "import seaborn as sns\n",
    "import plotly.express as px\n",
    "import pandas as pd\n",
    "import matplotlib.pyplot as plt\n",
    "\n",
    "import math"
   ]
  },
  {
   "cell_type": "markdown",
   "metadata": {},
   "source": [
    "## Step 1: Check out ways to simulate multivariate distributions\n",
    "This code comes from the `scipy` documentation. It allows specifying a full covariance matrix for the spread of the Gaussian. We probably don't need this and can specify the identity matrix."
   ]
  },
  {
   "cell_type": "code",
   "execution_count": null,
   "metadata": {},
   "outputs": [],
   "source": [
    "x, y = np.mgrid[-1:1:.01, -1:1:.01]\n",
    "pos = np.empty(x.shape + (2,))\n",
    "pos[:, :, 0] = x; pos[:, :, 1] = y\n",
    "rv = scipy.stats.multivariate_normal([0.5, -0.2], [[2.0, 0.3], [0.3, 0.5]])\n",
    "plt.contourf(x, y, rv.pdf(pos))"
   ]
  },
  {
   "cell_type": "code",
   "execution_count": null,
   "metadata": {
    "scrolled": true
   },
   "outputs": [],
   "source": [
    "rv = scipy.stats.multivariate_normal([0.5, -0.2])\n",
    "plt.contourf(x, y, rv.pdf(pos))"
   ]
  },
  {
   "cell_type": "markdown",
   "metadata": {},
   "source": [
    "We can take a sample from this distribution we just created."
   ]
  },
  {
   "cell_type": "code",
   "execution_count": null,
   "metadata": {
    "scrolled": true
   },
   "outputs": [],
   "source": [
    "rv.rvs(500)"
   ]
  },
  {
   "cell_type": "markdown",
   "metadata": {},
   "source": [
    "## Step 2: Write some univariate kernel\n",
    "Let's use the Gaussian kernel first."
   ]
  },
  {
   "cell_type": "code",
   "execution_count": null,
   "metadata": {},
   "outputs": [],
   "source": [
    "from functools import partial"
   ]
  },
  {
   "cell_type": "code",
   "execution_count": null,
   "metadata": {},
   "outputs": [],
   "source": [
    "def gaussian_univariate_kernel(b, x):\n",
    "    '''\n",
    "    x is the distance\n",
    "    b is the bandwidth\n",
    "    '''\n",
    "    c = (2*np.pi)**(-0.5)\n",
    "    return c * np.exp(-0.5*(x/b)**2)"
   ]
  },
  {
   "cell_type": "code",
   "execution_count": null,
   "metadata": {},
   "outputs": [],
   "source": [
    "Kh = partial(gaussian_univariate_kernel, 1)"
   ]
  },
  {
   "cell_type": "code",
   "execution_count": null,
   "metadata": {},
   "outputs": [],
   "source": [
    "xs = np.linspace(-5, 5, 100)\n",
    "ys = Kh(xs)\n",
    "px.scatter( x = xs, y = ys)"
   ]
  },
  {
   "cell_type": "markdown",
   "metadata": {},
   "source": [
    "## Step 3: Write a product kernel in two dimensions\n",
    "A product kernel is not the same thing as a diagonal bandwidth matrix"
   ]
  },
  {
   "cell_type": "code",
   "execution_count": null,
   "metadata": {},
   "outputs": [],
   "source": [
    "def product_kernel(h, x):\n",
    "    '''\n",
    "    h is a d-dimensional vector of smoothing parameters for each dimension\n",
    "    x is a single d-dimensional vector representing the distance\n",
    "    '''\n",
    "    c = 1/np.prod(h)\n",
    "    v = gaussian_univariate_kernel(h, x)\n",
    "    return c * np.prod(v, axis=-1)"
   ]
  },
  {
   "cell_type": "markdown",
   "metadata": {},
   "source": [
    "*Testing for the following properties:*\n",
    "- The product kernel takes the product of the univariate kernel in each dimension\n",
    "- The product kernel handles vectors properly\n"
   ]
  },
  {
   "cell_type": "code",
   "execution_count": null,
   "metadata": {},
   "outputs": [],
   "source": [
    "product_kernel(np.array([1, 1]), np.array([0, 0])) == \\\n",
    "    gaussian_univariate_kernel(1, 0) * gaussian_univariate_kernel(1, 0)"
   ]
  },
  {
   "cell_type": "code",
   "execution_count": null,
   "metadata": {},
   "outputs": [],
   "source": [
    "product_kernel(np.array([1, 2]), np.array([0, 1])) == \\\n",
    "    1/2*gaussian_univariate_kernel(1, 0) * gaussian_univariate_kernel(2, 1)"
   ]
  },
  {
   "cell_type": "code",
   "execution_count": null,
   "metadata": {
    "scrolled": false
   },
   "outputs": [],
   "source": [
    "np.array([product_kernel(np.array([1, 2]), np.array([0, 1])), product_kernel(np.array([1, 2]), np.array([1, 1]))]) == \\\n",
    "    product_kernel(np.array([1, 2]), np.array([[0, 1],[1,1]]))"
   ]
  },
  {
   "cell_type": "markdown",
   "metadata": {},
   "source": [
    "## Step 4: Test out product kernel\n",
    "We first simulate one Gaussian distribution in two dimensions centered at (0.5, -0.2)."
   ]
  },
  {
   "cell_type": "code",
   "execution_count": null,
   "metadata": {},
   "outputs": [],
   "source": [
    "rv = scipy.stats.multivariate_normal([0.5, -0.2])\n",
    "xs = rv.rvs(2000)"
   ]
  },
  {
   "cell_type": "markdown",
   "metadata": {},
   "source": [
    "Evaluate sum of kernels at origin."
   ]
  },
  {
   "cell_type": "code",
   "execution_count": null,
   "metadata": {},
   "outputs": [],
   "source": [
    "smoothings = np.array([1, 1])"
   ]
  },
  {
   "cell_type": "code",
   "execution_count": null,
   "metadata": {},
   "outputs": [],
   "source": [
    "def product_kernel_estimation(h, xs, x):\n",
    "    return np.mean(product_kernel(h, xs-x))"
   ]
  },
  {
   "cell_type": "code",
   "execution_count": null,
   "metadata": {
    "scrolled": true
   },
   "outputs": [],
   "source": [
    "# our point is (0, 0) so each xs serves as the difference vector\n",
    "product_kernel_estimation(smoothings, xs, np.array([0, 0])) == \\\n",
    "    np.mean(product_kernel(smoothings, xs))"
   ]
  },
  {
   "cell_type": "markdown",
   "metadata": {},
   "source": [
    "Plot this stuff."
   ]
  },
  {
   "cell_type": "code",
   "execution_count": null,
   "metadata": {},
   "outputs": [],
   "source": [
    "x = np.linspace(-5, 5, 100)\n",
    "y = np.linspace(-5, 5, 100)"
   ]
  },
  {
   "cell_type": "code",
   "execution_count": null,
   "metadata": {
    "scrolled": false
   },
   "outputs": [],
   "source": [
    "K = partial(product_kernel_estimation, smoothings, xs)\n",
    "px.scatter(x=xs[:, 0], y=xs[:, 1], color=[K(x) for x in xs])"
   ]
  },
  {
   "cell_type": "markdown",
   "metadata": {},
   "source": [
    "Wow. That looks convincing that it worked. Next is trying it in more than two dimensions."
   ]
  },
  {
   "cell_type": "markdown",
   "metadata": {},
   "source": [
    "## Step 5: Compare it to scipy's gaussian_kde\n",
    "That seems like it worked. Relevant would be the scalability of the algorithm? Or do we not care about performance yet?"
   ]
  },
  {
   "cell_type": "code",
   "execution_count": null,
   "metadata": {},
   "outputs": [],
   "source": [
    "scipy_kde = scipy.stats.gaussian_kde(xs.T)\n",
    "px.scatter(x=xs[:, 0], y=xs[:, 1], color=scipy_kde(xs.T))"
   ]
  }
 ],
 "metadata": {
  "kernelspec": {
   "display_name": "Python 3",
   "language": "python",
   "name": "python3"
  },
  "language_info": {
   "codemirror_mode": {
    "name": "ipython",
    "version": 3
   },
   "file_extension": ".py",
   "mimetype": "text/x-python",
   "name": "python",
   "nbconvert_exporter": "python",
   "pygments_lexer": "ipython3",
   "version": "3.7.6"
  }
 },
 "nbformat": 4,
 "nbformat_minor": 4
}
